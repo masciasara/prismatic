{
 "cells": [
  {
   "cell_type": "code",
   "execution_count": 1,
   "id": "5933f653-6c8e-47ba-b00f-1431a80b52b0",
   "metadata": {},
   "outputs": [
    {
     "name": "stderr",
     "output_type": "stream",
     "text": [
      "Downloading...\n",
      "From (original): https://drive.google.com/uc?id=1nLwEX3edQI9ktHof9eAsH0z7lvUYFz7i\n",
      "From (redirected): https://drive.google.com/uc?id=1nLwEX3edQI9ktHof9eAsH0z7lvUYFz7i&confirm=t&uuid=0922ee00-b9ca-4dc0-b182-dd1d64e86671\n",
      "To: /Users/smascia/Desktop/PRISMATIC/data/data.zip\n",
      "100%|████████████████████████████████████████| 345M/345M [00:05<00:00, 66.5MB/s]\n"
     ]
    },
    {
     "name": "stdout",
     "output_type": "stream",
     "text": [
      "Choose a pointing (1,2,3,5):\n"
     ]
    },
    {
     "name": "stdin",
     "output_type": "stream",
     "text": [
      " 1\n",
      "Choose a name for the output catalog (remember the extension!): (e.g., final_pointing_YourName.csv)  v1.csv\n"
     ]
    }
   ],
   "source": [
    "import upload_spectra\n",
    "import interactive_viewer\n",
    "import ipympl\n",
    "\n",
    "%matplotlib widget\n",
    "catalog_filtered, new_catalog_name = upload_spectra.main()"
   ]
  },
  {
   "cell_type": "markdown",
   "id": "7a0f2ee6-192a-451c-b802-45002be4dacb",
   "metadata": {},
   "source": [
    "### Quality label scheme\n",
    "\n",
    "- **4:** Very secure redshift. Several clear features matching.\n",
    "- **3:** Secure redshift. Various high and low confidence features matching.\n",
    "- **2:** Probable redshift. Various low confidence features.\n",
    "- **1:** Uncertain redshift. Single low confidence feature.\n",
    "- **0:** Unknown. No detection or absence of features.\n",
    "- **9:** Best guess for single high confidence feature."
   ]
  },
  {
   "cell_type": "code",
   "execution_count": 2,
   "id": "68936b40-5d02-4234-bd5e-f1233a302cd1",
   "metadata": {},
   "outputs": [
    {
     "data": {
      "application/vnd.jupyter.widget-view+json": {
       "model_id": "16a5bdee73c14e3cb7f7cb81b8e64da0",
       "version_major": 2,
       "version_minor": 0
      },
      "text/plain": [
       "HBox(children=(VBox(children=(HBox(children=(Text(value='000104422', description='ID:', layout=Layout(width='2…"
      ]
     },
     "metadata": {},
     "output_type": "display_data"
    },
    {
     "data": {
      "application/vnd.jupyter.widget-view+json": {
       "model_id": "2712a9930a5f41b4b8d6869c9d3a51aa",
       "version_major": 2,
       "version_minor": 0
      },
      "text/plain": [
       "VBox(children=(Output(),))"
      ]
     },
     "metadata": {},
     "output_type": "display_data"
    }
   ],
   "source": [
    "interactive_viewer.catalog_filtered = catalog_filtered\n",
    "interactive_viewer.new_catalog_name = new_catalog_name\n",
    "interactive_viewer.interactive_spectrum_viewer()"
   ]
  }
 ],
 "metadata": {
  "kernelspec": {
   "display_name": "Python 3 (ipykernel)",
   "language": "python",
   "name": "python3"
  },
  "language_info": {
   "codemirror_mode": {
    "name": "ipython",
    "version": 3
   },
   "file_extension": ".py",
   "mimetype": "text/x-python",
   "name": "python",
   "nbconvert_exporter": "python",
   "pygments_lexer": "ipython3",
   "version": "3.12.8"
  }
 },
 "nbformat": 4,
 "nbformat_minor": 5
}
