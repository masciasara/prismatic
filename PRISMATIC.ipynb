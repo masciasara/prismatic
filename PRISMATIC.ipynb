{
 "cells": [
  {
   "cell_type": "code",
   "execution_count": 1,
   "id": "5933f653-6c8e-47ba-b00f-1431a80b52b0",
   "metadata": {},
   "outputs": [
    {
     "name": "stdout",
     "output_type": "stream",
     "text": [
      "Choose a pointing (1,2,3,5):\n"
     ]
    },
    {
     "name": "stdin",
     "output_type": "stream",
     "text": [
      " 1\n",
      "Choose a name for the output catalog (remember the extension!): (e.g., final_pointing_YourName.csv)  1.csv\n"
     ]
    }
   ],
   "source": [
    "import upload_spectra\n",
    "import interactive_viewer\n",
    "import ipympl\n",
    "\n",
    "%matplotlib widget\n",
    "catalog_filtered, new_catalog_name = upload_spectra.main()"
   ]
  },
  {
   "cell_type": "code",
   "execution_count": 2,
   "id": "68936b40-5d02-4234-bd5e-f1233a302cd1",
   "metadata": {},
   "outputs": [
    {
     "data": {
      "application/vnd.jupyter.widget-view+json": {
       "model_id": "359a822aac8047f48437d23aedb58182",
       "version_major": 2,
       "version_minor": 0
      },
      "text/plain": [
       "HBox(children=(VBox(children=(HBox(children=(Text(value='000104422', description='ID:', placeholder='Enter ID'…"
      ]
     },
     "metadata": {},
     "output_type": "display_data"
    },
    {
     "data": {
      "application/vnd.jupyter.widget-view+json": {
       "model_id": "d89fd17d32544efc9bbf0835aab83f3b",
       "version_major": 2,
       "version_minor": 0
      },
      "text/plain": [
       "VBox(children=(Output(),))"
      ]
     },
     "metadata": {},
     "output_type": "display_data"
    }
   ],
   "source": [
    "interactive_viewer.catalog_filtered = catalog_filtered\n",
    "interactive_viewer.new_catalog_name = new_catalog_name\n",
    "interactive_viewer.interactive_spectrum_viewer()"
   ]
  },
  {
   "cell_type": "code",
   "execution_count": null,
   "id": "c7411f14-976b-4fb3-9fc0-75ed06236349",
   "metadata": {},
   "outputs": [],
   "source": []
  }
 ],
 "metadata": {
  "kernelspec": {
   "display_name": "Python 3 (ipykernel)",
   "language": "python",
   "name": "python3"
  },
  "language_info": {
   "codemirror_mode": {
    "name": "ipython",
    "version": 3
   },
   "file_extension": ".py",
   "mimetype": "text/x-python",
   "name": "python",
   "nbconvert_exporter": "python",
   "pygments_lexer": "ipython3",
   "version": "3.12.8"
  }
 },
 "nbformat": 4,
 "nbformat_minor": 5
}
